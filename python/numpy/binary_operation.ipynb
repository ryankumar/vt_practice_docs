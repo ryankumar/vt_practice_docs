{
 "cells": [
  {
   "cell_type": "code",
   "execution_count": 4,
   "metadata": {},
   "outputs": [],
   "source": [
    "import numpy as geek\n"
   ]
  },
  {
   "cell_type": "markdown",
   "metadata": {},
   "source": [
    "### numpy.bitwise_and()"
   ]
  },
  {
   "cell_type": "code",
   "execution_count": 5,
   "metadata": {},
   "outputs": [
    {
     "name": "stdout",
     "output_type": "stream",
     "text": [
      "bitwise_and of 10 and 11 :  10\n",
      "Output array after bitwise_and:  [  2   0 113]\n"
     ]
    }
   ],
   "source": [
    "in_num1 = 10\n",
    "in_num2 = 11\n",
    "out_num = geek.bitwise_and(in_num1, in_num2) \n",
    "print (\"bitwise_and of 10 and 11 : \", out_num) \n",
    "\n",
    "in_arr1 = [2, 8, 125]\n",
    "in_arr2 = [3, 3, 115]\n",
    "out_arr = geek.bitwise_and(in_arr1, in_arr2) \n",
    "print (\"Output array after bitwise_and: \", out_arr)"
   ]
  },
  {
   "cell_type": "markdown",
   "metadata": {},
   "source": [
    "## numpy.bitwise_or() :"
   ]
  },
  {
   "cell_type": "code",
   "execution_count": 6,
   "metadata": {},
   "outputs": [
    {
     "name": "stdout",
     "output_type": "stream",
     "text": [
      "bitwise_or of 10 and 11 :  11\n",
      "Output array after bitwise_or:  [  3  11 127]\n"
     ]
    }
   ],
   "source": [
    "out_num = geek.bitwise_or(in_num1, in_num2)\n",
    "print (\"bitwise_or of 10 and 11 : \", out_num)\n",
    "\n",
    "out_arr = geek.bitwise_or(in_arr1, in_arr2) \n",
    "print (\"Output array after bitwise_or: \", out_arr) "
   ]
  },
  {
   "cell_type": "markdown",
   "metadata": {},
   "source": [
    "## numpy.bitwise_xor() :"
   ]
  },
  {
   "cell_type": "code",
   "execution_count": 7,
   "metadata": {},
   "outputs": [
    {
     "name": "stdout",
     "output_type": "stream",
     "text": [
      "bitwise_xor of 10 and 11 :  1\n",
      "Output array after bitwise_xor:  [ 1 11 14]\n"
     ]
    }
   ],
   "source": [
    "out_num = geek.bitwise_xor(in_num1, in_num2)\n",
    "print (\"bitwise_xor of 10 and 11 : \", out_num) \n",
    "\n",
    "out_arr = geek.bitwise_xor(in_arr1, in_arr2) \n",
    "print (\"Output array after bitwise_xor: \", out_arr) "
   ]
  },
  {
   "cell_type": "markdown",
   "metadata": {},
   "source": [
    "## numpy.invert() :"
   ]
  },
  {
   "cell_type": "code",
   "execution_count": 9,
   "metadata": {},
   "outputs": [
    {
     "name": "stdout",
     "output_type": "stream",
     "text": [
      "inversion of 10 :  -11\n",
      "Output array after inversion:  [  -3   -9 -126]\n"
     ]
    }
   ],
   "source": [
    "out_num = geek.invert(in_num1) \n",
    "print (\"inversion of 10 : \", out_num) \n",
    "\n",
    "out_arr = geek.invert(in_arr1) \n",
    "print (\"Output array after inversion: \", out_arr) "
   ]
  },
  {
   "cell_type": "markdown",
   "metadata": {},
   "source": [
    "## numpy.left_shift() :"
   ]
  },
  {
   "cell_type": "code",
   "execution_count": 12,
   "metadata": {},
   "outputs": [
    {
     "name": "stdout",
     "output_type": "stream",
     "text": [
      "After left shifting 2 bit  :  20\n",
      "Output array after left shifting:  [ 16 128 480]\n"
     ]
    }
   ],
   "source": [
    "in_num = 5\n",
    "bit_shift = 2\n",
    "out_num = geek.left_shift(in_num, bit_shift) \n",
    "print (\"After left shifting 2 bit  : \", out_num) \n",
    "\n",
    "in_arr = [2, 8, 15]\n",
    "bit_shift =[3, 4, 5]\n",
    "out_arr = geek.left_shift(in_arr, bit_shift) \n",
    "print (\"Output array after left shifting: \", out_arr)"
   ]
  },
  {
   "cell_type": "markdown",
   "metadata": {},
   "source": [
    "## numpy.right_shift() : "
   ]
  },
  {
   "cell_type": "code",
   "execution_count": 13,
   "metadata": {},
   "outputs": [
    {
     "name": "stdout",
     "output_type": "stream",
     "text": [
      "After right shifting 2 bit  :  5\n",
      "Output array after right shifting:  [3 3 4]\n"
     ]
    }
   ],
   "source": [
    "in_num = 20\n",
    "bit_shift = 2\n",
    "out_num = geek.right_shift(in_num, bit_shift) \n",
    "print (\"After right shifting 2 bit  : \", out_num) \n",
    "\n",
    "in_arr = [24, 48, 16]\n",
    "bit_shift =[3, 4, 2]\n",
    "out_arr = geek.right_shift(in_arr, bit_shift) \n",
    "print (\"Output array after right shifting: \", out_arr) "
   ]
  },
  {
   "cell_type": "markdown",
   "metadata": {},
   "source": [
    "## numpy.binary_repr(number, width=None) :"
   ]
  },
  {
   "cell_type": "code",
   "execution_count": 14,
   "metadata": {},
   "outputs": [
    {
     "name": "stdout",
     "output_type": "stream",
     "text": [
      "binary representation of 10 :  1010\n",
      "Binary representation of 5\n",
      "Without using width parameter :  101\n",
      "Using width parameter:  00101\n",
      "Without using width parameter :  -1000\n",
      "Using width parameter :  11000\n"
     ]
    }
   ],
   "source": [
    "in_num = 10\n",
    "out_num = geek.binary_repr(in_num) \n",
    "print (\"binary representation of 10 : \", out_num) \n",
    "\n",
    "in_arr = [5, -8 ]\n",
    "out_num = geek.binary_repr(in_arr[0])\n",
    "print(\"Binary representation of 5\")\n",
    "print (\"Without using width parameter : \", out_num) \n",
    "\n",
    "out_num = geek.binary_repr(in_arr[0], width = 5)\n",
    "print (\"Using width parameter: \", out_num) \n",
    "\n",
    "out_num = geek.binary_repr(in_arr[1])\n",
    "print (\"Without using width parameter : \", out_num) \n",
    "\n",
    "out_num = geek.binary_repr(in_arr[1], width = 5)\n",
    "print (\"Using width parameter : \", out_num) \n"
   ]
  },
  {
   "cell_type": "markdown",
   "metadata": {},
   "source": [
    "## numpy.packbits(myarray, axis=None) :"
   ]
  },
  {
   "cell_type": "code",
   "execution_count": 15,
   "metadata": {
    "scrolled": true
   },
   "outputs": [
    {
     "name": "stdout",
     "output_type": "stream",
     "text": [
      "[[[160]\n",
      "  [ 64]]\n",
      "\n",
      " [[192]\n",
      "  [ 32]]]\n"
     ]
    }
   ],
   "source": [
    "a = np.array([[[1,0,1],\n",
    "             [0,1,0]],\n",
    "             [[1,1,0],\n",
    "             [0,0,1]]])\n",
    "b = np.packbits(a, axis=-1)\n",
    "print(b)"
   ]
  },
  {
   "cell_type": "markdown",
   "metadata": {},
   "source": [
    "## numpy.unpackbits(myarray, axis=None) : "
   ]
  },
  {
   "cell_type": "code",
   "execution_count": 17,
   "metadata": {},
   "outputs": [
    {
     "name": "stdout",
     "output_type": "stream",
     "text": [
      "[[0 0 0 0 0 0 1 0]\n",
      " [0 0 0 0 0 1 1 1]\n",
      " [0 0 0 1 0 1 1 1]]\n"
     ]
    }
   ],
   "source": [
    "a = np.array([[2], [7], [23]], dtype=np.uint8)\n",
    "b = np.unpackbits(a, axis = 1)\n",
    "print(b)\n"
   ]
  },
  {
   "cell_type": "code",
   "execution_count": 19,
   "metadata": {},
   "outputs": [
    {
     "ename": "ImportError",
     "evalue": "No module named 'pandas'",
     "output_type": "error",
     "traceback": [
      "\u001b[0;31m---------------------------------------------------------------------------\u001b[0m",
      "\u001b[0;31mImportError\u001b[0m                               Traceback (most recent call last)",
      "\u001b[0;32m<ipython-input-19-a60007fad3a6>\u001b[0m in \u001b[0;36m<module>\u001b[0;34m\u001b[0m\n\u001b[0;32m----> 1\u001b[0;31m \u001b[0;32mimport\u001b[0m \u001b[0mpandas\u001b[0m \u001b[0;32mas\u001b[0m \u001b[0mmp\u001b[0m\u001b[0;34m\u001b[0m\u001b[0m\n\u001b[0m",
      "\u001b[0;31mImportError\u001b[0m: No module named 'pandas'"
     ]
    }
   ],
   "source": [
    "import pandas as mp\n"
   ]
  },
  {
   "cell_type": "code",
   "execution_count": null,
   "metadata": {},
   "outputs": [],
   "source": []
  }
 ],
 "metadata": {
  "kernelspec": {
   "display_name": "Python 3",
   "language": "python",
   "name": "python3"
  },
  "language_info": {
   "codemirror_mode": {
    "name": "ipython",
    "version": 3
   },
   "file_extension": ".py",
   "mimetype": "text/x-python",
   "name": "python",
   "nbconvert_exporter": "python",
   "pygments_lexer": "ipython3",
   "version": "3.5.2"
  }
 },
 "nbformat": 4,
 "nbformat_minor": 2
}
